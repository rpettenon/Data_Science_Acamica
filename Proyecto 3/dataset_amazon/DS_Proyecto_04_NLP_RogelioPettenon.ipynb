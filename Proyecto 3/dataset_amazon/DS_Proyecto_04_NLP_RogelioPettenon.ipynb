{
  "nbformat": 4,
  "nbformat_minor": 0,
  "metadata": {
    "colab": {
      "name": "DS_Proyecto_04_NLP_RogelioPettenon.ipynb",
      "provenance": [],
      "collapsed_sections": []
    },
    "kernelspec": {
      "name": "python3",
      "display_name": "Python 3"
    },
    "language_info": {
      "name": "python"
    },
    "accelerator": "TPU"
  },
  "cells": [
    {
      "cell_type": "markdown",
      "metadata": {
        "id": "zmiTOK3fwWJI"
      },
      "source": [
        "# **Trabajo final - Proyecto 4**\n",
        "\n",
        "Nombre y Apellido: Rogelio Pettenon\n",
        "\n",
        "Github: \n",
        "\n",
        "La elaboración de este trabajo toma como referencia la documentación indicada debajo\n",
        "\n",
        "https://torres.ai/redes-neuronales-recurrentes/\n",
        "\n",
        "https://www.tensorflow.org/text/tutorials/text_classification_rnn\n",
        "\n"
      ]
    },
    {
      "cell_type": "markdown",
      "metadata": {
        "id": "DnwlGp1ZwNyK"
      },
      "source": [
        "## **Recurrent Neural Networks**\n",
        "\n",
        "El objetivo de este trabajo es profundizar el Proyecto 3 implementando modelos de Deep Learning, para ello utilizaré Recurrent Neural Networks. Las RNN están capacitadas para reconocer patrones en datos secuenciales como, por ejemplo: los textos. Con la ayuda de las RNN espero poder reconocer aquellos patrones de palabras que subyacen en el texto.\n",
        "\n",
        "¿Cómo funcionan las redes neuronales? Las redes neuronales están compuestas por capas, la primera capa, bien conocida como \"input layer\", es donde se insertan nuestros datos. Luego le siguen una serie de capas conocidas como \"hidden layers\" las cuales aplican tranasformaciones (lineales o no lineales) a los datos para luego llegar a la última capa, la \"output layer\", la cual nos muestra la clasificación que hizo la red.\n",
        "\n",
        "Para comparar las metricas con los modelos implementados en el proyecot 3 tomare los resultados del analisis exploratorio y el procesamiento de texto anterior y hare la implementación correspondiente"
      ]
    },
    {
      "cell_type": "code",
      "metadata": {
        "id": "YBYHkPvG_gut"
      },
      "source": [
        "# Librerias necesarias\n",
        "import pandas as pd\n",
        "import numpy as np\n",
        "import seaborn as sns\n",
        "import matplotlib.pyplot as plt\n",
        "\n",
        "# Librerias para obtener metricas\n",
        "from sklearn.model_selection import train_test_split\n",
        "from sklearn.metrics import accuracy_score\n",
        "from sklearn.metrics import classification_report\n",
        "from sklearn.metrics import confusion_matrix\n",
        "from sklearn.metrics import plot_confusion_matrix"
      ],
      "execution_count": 1,
      "outputs": []
    },
    {
      "cell_type": "code",
      "metadata": {
        "id": "IEnZYp_rF5mJ"
      },
      "source": [
        "#path\n",
        "data = pd.read_csv('/content/drive/MyDrive/Colab Notebooks/Acamica_Proyecto3/data_lemma_1.csv') "
      ],
      "execution_count": 2,
      "outputs": []
    },
    {
      "cell_type": "code",
      "metadata": {
        "id": "cTKEiGD8VmxA",
        "colab": {
          "base_uri": "https://localhost:8080/",
          "height": 289
        },
        "outputId": "bb39631a-bcfb-4440-8a0c-2631ea941987"
      },
      "source": [
        "data.tail()"
      ],
      "execution_count": 3,
      "outputs": [
        {
          "output_type": "execute_result",
          "data": {
            "text/html": [
              "<div>\n",
              "<style scoped>\n",
              "    .dataframe tbody tr th:only-of-type {\n",
              "        vertical-align: middle;\n",
              "    }\n",
              "\n",
              "    .dataframe tbody tr th {\n",
              "        vertical-align: top;\n",
              "    }\n",
              "\n",
              "    .dataframe thead th {\n",
              "        text-align: right;\n",
              "    }\n",
              "</style>\n",
              "<table border=\"1\" class=\"dataframe\">\n",
              "  <thead>\n",
              "    <tr style=\"text-align: right;\">\n",
              "      <th></th>\n",
              "      <th>product_category</th>\n",
              "      <th>review_title</th>\n",
              "      <th>review_body</th>\n",
              "      <th>stars</th>\n",
              "      <th>review_body_length</th>\n",
              "      <th>review_title_length</th>\n",
              "      <th>review_body_lemma</th>\n",
              "    </tr>\n",
              "  </thead>\n",
              "  <tbody>\n",
              "    <tr>\n",
              "      <th>209995</th>\n",
              "      <td>wireless</td>\n",
              "      <td>Perfectos para lo que sirven</td>\n",
              "      <td>Para lo que cuesta es perfecto porque cumple s...</td>\n",
              "      <td>5</td>\n",
              "      <td>NaN</td>\n",
              "      <td>NaN</td>\n",
              "      <td>para costar perfecto cumplir función sobra ade...</td>\n",
              "    </tr>\n",
              "    <tr>\n",
              "      <th>209996</th>\n",
              "      <td>wireless</td>\n",
              "      <td>Buen vendedor, rápido y fiable.</td>\n",
              "      <td>Material muy flexible y cómodo, acorde a la de...</td>\n",
              "      <td>5</td>\n",
              "      <td>NaN</td>\n",
              "      <td>NaN</td>\n",
              "      <td>material flexible cómodo acorde descripción</td>\n",
              "    </tr>\n",
              "    <tr>\n",
              "      <th>209997</th>\n",
              "      <td>home</td>\n",
              "      <td>medallas con bonito grabado</td>\n",
              "      <td>Se ve bien el grabado</td>\n",
              "      <td>5</td>\n",
              "      <td>NaN</td>\n",
              "      <td>NaN</td>\n",
              "      <td>bien grabado</td>\n",
              "    </tr>\n",
              "    <tr>\n",
              "      <th>209998</th>\n",
              "      <td>sports</td>\n",
              "      <td>timbre</td>\n",
              "      <td>lo compré para mi bici pero finalmente se lo h...</td>\n",
              "      <td>5</td>\n",
              "      <td>NaN</td>\n",
              "      <td>NaN</td>\n",
              "      <td>comprar bici finalmente quedar xiaomi scooter ...</td>\n",
              "    </tr>\n",
              "    <tr>\n",
              "      <th>209999</th>\n",
              "      <td>electronics</td>\n",
              "      <td>Auriculares sin cables de verdad</td>\n",
              "      <td>Pues este tipo de cascos si que son inalambric...</td>\n",
              "      <td>5</td>\n",
              "      <td>NaN</td>\n",
              "      <td>NaN</td>\n",
              "      <td>pues tipo casco inalambrico no atado goma tipi...</td>\n",
              "    </tr>\n",
              "  </tbody>\n",
              "</table>\n",
              "</div>"
            ],
            "text/plain": [
              "       product_category  ...                                  review_body_lemma\n",
              "209995         wireless  ...  para costar perfecto cumplir función sobra ade...\n",
              "209996         wireless  ...        material flexible cómodo acorde descripción\n",
              "209997             home  ...                                       bien grabado\n",
              "209998           sports  ...  comprar bici finalmente quedar xiaomi scooter ...\n",
              "209999      electronics  ...  pues tipo casco inalambrico no atado goma tipi...\n",
              "\n",
              "[5 rows x 7 columns]"
            ]
          },
          "metadata": {},
          "execution_count": 3
        }
      ]
    },
    {
      "cell_type": "code",
      "metadata": {
        "id": "HqECazxw_qYJ"
      },
      "source": [
        "#data = pd.read_csv('data_lemm.csv')\n",
        "data['review_body_lemma'] = data['review_body_lemma'].astype(str)\n",
        "# Elimino los registros con datos faltantees\n",
        "data = data[data['review_body_lemma'] != \"nan\" ]"
      ],
      "execution_count": 4,
      "outputs": []
    },
    {
      "cell_type": "code",
      "metadata": {
        "id": "J1d3_4iQAO3x"
      },
      "source": [
        "# Creo función para generar matriz de confusión\n",
        "def plot_cm(y,y_pred):\n",
        "    names=[\"1\",\"2\",\"3\",\"4\",\"5\"]\n",
        "    cm=confusion_matrix(y,y_pred)\n",
        "    f,ax=plt.subplots(figsize=(7,7))\n",
        "    sns.heatmap(cm,annot=True,ax=ax,fmt=\".0f\", cmap=\"YlGnBu\")\n",
        "    plt.xlabel(\"y_pred\")\n",
        "    plt.ylabel(\"y_true\")\n",
        "    ax.set_xticklabels(names)\n",
        "    ax.set_yticklabels(names)\n",
        "    plt.show()\n",
        "\n",
        "    return"
      ],
      "execution_count": 5,
      "outputs": []
    },
    {
      "cell_type": "markdown",
      "metadata": {
        "id": "KYD9mlmsAqIH"
      },
      "source": [
        "## Text classification with a RNN\n",
        "Para armar mi modelo utilizaré la librería TensorFlow junto a Keras. Comenzaré definiendo la variable independiente y la dependiente, luego realizo separación de los datos para entrenamiento y testeo"
      ]
    },
    {
      "cell_type": "code",
      "metadata": {
        "id": "ZNKks8DXAtvQ"
      },
      "source": [
        "x = np.array(data['review_body_lemma'])\n",
        "y = np.array(data['stars'])\n",
        "\n",
        "# Separo un 80% para entrenar y dejo el 20% que luego separo en 50% para test y 50 % para dev\n",
        "xtrain, xtest, ytrain, ytest = train_test_split(x,y,test_size=0.2,random_state=42,stratify=y)\n",
        "xtest, xdev, ytest, ydev = train_test_split(xtest,ytest,test_size=0.5,random_state=42,stratify=ytest)"
      ],
      "execution_count": 6,
      "outputs": []
    },
    {
      "cell_type": "markdown",
      "metadata": {
        "id": "7Mc6ugklBBIA"
      },
      "source": [
        "Dado que las entradas en una red neuronal deben ser tensores de datos numéricos primero debo realizar la conversión denominada “vectorización” de datos, en este caso utilizo One-hot Encoding"
      ]
    },
    {
      "cell_type": "code",
      "metadata": {
        "id": "rEnye5pYBCZ-"
      },
      "source": [
        "import tensorflow as tf\n",
        "from keras.callbacks import EarlyStopping # nos permite detener el entrenamiento cuando una métrica monitoreada haya dejado de mejorar\n",
        "import random"
      ],
      "execution_count": 7,
      "outputs": []
    },
    {
      "cell_type": "markdown",
      "metadata": {
        "id": "WbiMnts2BIEL"
      },
      "source": [
        "Como la funcion to_categorical espera recibir valores integer entre 0-(# clases) le dire que hay 6 clases y luego removere la que es considerada como la clase 0"
      ]
    },
    {
      "cell_type": "code",
      "metadata": {
        "id": "PV6h0EhzBLC3"
      },
      "source": [
        "ytrain_cat = tf.keras.utils.to_categorical(ytrain, num_classes=6)\n",
        "ytest_cat = tf.keras.utils.to_categorical(ytest, num_classes=6)\n",
        "ydev_cat = tf.keras.utils.to_categorical(ydev, num_classes=6)"
      ],
      "execution_count": 8,
      "outputs": []
    },
    {
      "cell_type": "code",
      "metadata": {
        "id": "MhEG7_T8rf2E",
        "colab": {
          "base_uri": "https://localhost:8080/"
        },
        "outputId": "36be4104-b477-4a68-e199-2e1e7b740e18"
      },
      "source": [
        "ytrain_cat"
      ],
      "execution_count": 9,
      "outputs": [
        {
          "output_type": "execute_result",
          "data": {
            "text/plain": [
              "array([[0., 0., 1., 0., 0., 0.],\n",
              "       [0., 0., 0., 1., 0., 0.],\n",
              "       [0., 0., 1., 0., 0., 0.],\n",
              "       ...,\n",
              "       [0., 1., 0., 0., 0., 0.],\n",
              "       [0., 0., 1., 0., 0., 0.],\n",
              "       [0., 0., 0., 0., 0., 1.]], dtype=float32)"
            ]
          },
          "metadata": {},
          "execution_count": 9
        }
      ]
    },
    {
      "cell_type": "code",
      "metadata": {
        "id": "OIWxUrAKBNlD"
      },
      "source": [
        "# Elimino la categoría 0\n",
        "ytrain_cat = np.delete(ytrain_cat,0,axis=1)\n",
        "ytest_cat = np.delete(ytest_cat,0,axis=1)\n",
        "ydev_cat = np.delete(ydev_cat,0,axis=1)"
      ],
      "execution_count": 10,
      "outputs": []
    },
    {
      "cell_type": "markdown",
      "metadata": {
        "id": "OKdRjU6hBQ5c"
      },
      "source": [
        "Veamos algunos ejemplos de como es el one hot encoding:"
      ]
    },
    {
      "cell_type": "code",
      "metadata": {
        "colab": {
          "base_uri": "https://localhost:8080/"
        },
        "id": "viqKtfgCBT4I",
        "outputId": "5d544a8b-981a-48cb-f72f-b5df3bffea71"
      },
      "source": [
        "indexes = random.sample(range(0, len(ytrain)), 12)\n",
        "\n",
        "for i in indexes:\n",
        "    print(\"Clase: \",ytrain[i], \"-> One hot encoding -> \", ytrain_cat[i])"
      ],
      "execution_count": 11,
      "outputs": [
        {
          "output_type": "stream",
          "name": "stdout",
          "text": [
            "Clase:  5 -> One hot encoding ->  [0. 0. 0. 0. 1.]\n",
            "Clase:  5 -> One hot encoding ->  [0. 0. 0. 0. 1.]\n",
            "Clase:  1 -> One hot encoding ->  [1. 0. 0. 0. 0.]\n",
            "Clase:  1 -> One hot encoding ->  [1. 0. 0. 0. 0.]\n",
            "Clase:  1 -> One hot encoding ->  [1. 0. 0. 0. 0.]\n",
            "Clase:  5 -> One hot encoding ->  [0. 0. 0. 0. 1.]\n",
            "Clase:  1 -> One hot encoding ->  [1. 0. 0. 0. 0.]\n",
            "Clase:  4 -> One hot encoding ->  [0. 0. 0. 1. 0.]\n",
            "Clase:  1 -> One hot encoding ->  [1. 0. 0. 0. 0.]\n",
            "Clase:  4 -> One hot encoding ->  [0. 0. 0. 1. 0.]\n",
            "Clase:  4 -> One hot encoding ->  [0. 0. 0. 1. 0.]\n",
            "Clase:  3 -> One hot encoding ->  [0. 0. 1. 0. 0.]\n"
          ]
        }
      ]
    },
    {
      "cell_type": "markdown",
      "metadata": {
        "id": "_JHhwws_BXru"
      },
      "source": [
        "Crearé mis datasets en formato Tensorflow:"
      ]
    },
    {
      "cell_type": "code",
      "metadata": {
        "id": "5SW3bLXcBWyS"
      },
      "source": [
        "train_dataset = tf.data.Dataset.from_tensor_slices((xtrain, ytrain_cat))\n",
        "test_dataset = tf.data.Dataset.from_tensor_slices((xtest, ytest_cat))\n",
        "dev_dataset = tf.data.Dataset.from_tensor_slices((xdev, ydev_cat))"
      ],
      "execution_count": 12,
      "outputs": []
    },
    {
      "cell_type": "code",
      "metadata": {
        "colab": {
          "base_uri": "https://localhost:8080/"
        },
        "id": "Rdeu_BYnthzs",
        "outputId": "dd5df7a1-dc0d-4fe4-9b49-c34456ad6142"
      },
      "source": [
        "train_dataset"
      ],
      "execution_count": 13,
      "outputs": [
        {
          "output_type": "execute_result",
          "data": {
            "text/plain": [
              "<TensorSliceDataset shapes: ((), (5,)), types: (tf.string, tf.float32)>"
            ]
          },
          "metadata": {},
          "execution_count": 13
        }
      ]
    },
    {
      "cell_type": "markdown",
      "metadata": {
        "id": "fw9uvoJEBiDT"
      },
      "source": [
        "Los modelos en tensorflow se entrenan por varias pasadas por el conjunto de entrenamiento completo (epochs) y en cada pasada se entrena sobre una porción del dataset a la vez (batches), voy a definir el tamaño de cada una de estas porciones o batches:"
      ]
    },
    {
      "cell_type": "code",
      "metadata": {
        "id": "r-FdbwfpBljP"
      },
      "source": [
        "BUFFER_SIZE = len(train_dataset)\n",
        "BATCH_SIZE = 64"
      ],
      "execution_count": 14,
      "outputs": []
    },
    {
      "cell_type": "code",
      "metadata": {
        "id": "mckpctUxBpDR"
      },
      "source": [
        "train_dataset = train_dataset.shuffle(BUFFER_SIZE).batch(BATCH_SIZE).prefetch(tf.data.AUTOTUNE)\n",
        "dev_dataset = dev_dataset.batch(BATCH_SIZE).prefetch(tf.data.AUTOTUNE)"
      ],
      "execution_count": 15,
      "outputs": []
    },
    {
      "cell_type": "markdown",
      "metadata": {
        "id": "0FbTIVYmBsBt"
      },
      "source": [
        "Ejemplo:"
      ]
    },
    {
      "cell_type": "code",
      "metadata": {
        "colab": {
          "base_uri": "https://localhost:8080/"
        },
        "id": "wqHz8YJhBxHD",
        "outputId": "28ceecb2-4d04-420a-e728-cf9f563eef24"
      },
      "source": [
        "for example, label in train_dataset.take(1):\n",
        "    print('texts: ', example.numpy()[:3])\n",
        "    print()\n",
        "    print('labels: ', label.numpy()[:3])"
      ],
      "execution_count": 16,
      "outputs": [
        {
          "output_type": "stream",
          "name": "stdout",
          "text": [
            "texts:  [b'despu\\xc3\\xa9s mes no fiable costar detectar entender precio no poder pedir mucho'\n",
            " b'mal\\xc3\\xadsimos pillar amigo comprar llevar parecer buen cabo mes comprar marca obviamente comenzar fallar cable micr\\xc3\\xb3fono no caro no esperar calidad 100% esperar romper r\\xc3\\xa1pido resumir p\\xc3\\xa9rdida dinero'\n",
            " b'siempre apagar cambiar disco']\n",
            "\n",
            "labels:  [[0. 0. 1. 0. 0.]\n",
            " [1. 0. 0. 0. 0.]\n",
            " [0. 0. 1. 0. 0.]]\n"
          ]
        }
      ]
    },
    {
      "cell_type": "markdown",
      "metadata": {
        "id": "bsAA2ZyMB7Oe"
      },
      "source": [
        "\n",
        "## Creando el encoder de texto:\n",
        "El texto crudo necesita ser procesado antes de ser utilizado por el modelo. Utilizaré el método más sencillo propuesto en el tutorial para procesar mi texto para entrenamiento utilizando tf.keras.layers.experimental.processing.TextVectorization. Crearé la capa y le pasaré el texto del dataset al método .adapt"
      ]
    },
    {
      "cell_type": "code",
      "metadata": {
        "id": "OArDAgcaCAdw"
      },
      "source": [
        "\n",
        "VOCAB_SIZE = 1000 #La cantidad de palabras con la que aprendera mi encoder.\n",
        "encoder = tf.keras.layers.experimental.preprocessing.TextVectorization(max_tokens=VOCAB_SIZE)\n",
        "encoder.adapt(train_dataset.map(lambda text, label: text))"
      ],
      "execution_count": 17,
      "outputs": []
    },
    {
      "cell_type": "markdown",
      "metadata": {
        "id": "y5KzpjOECETb"
      },
      "source": [
        "El método .adapt fija el vocabulario de la capa. Veamos los primeros 20 tokens generados, los primeros dos serán el padding y aquellos tokens desconocidos:"
      ]
    },
    {
      "cell_type": "code",
      "metadata": {
        "colab": {
          "base_uri": "https://localhost:8080/"
        },
        "id": "nPe769k5CG31",
        "outputId": "ee87b3ef-5851-46f9-dc49-2f9c8f52f17e"
      },
      "source": [
        "vocab = np.array(encoder.get_vocabulary())\n",
        "vocab[:20]"
      ],
      "execution_count": 18,
      "outputs": [
        {
          "output_type": "execute_result",
          "data": {
            "text/plain": [
              "array(['', '[UNK]', 'no', 'bien', 'él', 'calidad', 'producto', 'buen',\n",
              "       'precio', 'poco', 'mucho', 'comprar', 'llegar', 'funcionar',\n",
              "       'venir', 'quedar', 'tener', 'gustar', 'pequeño', 'perfecto'],\n",
              "      dtype='<U14')"
            ]
          },
          "metadata": {},
          "execution_count": 18
        }
      ]
    },
    {
      "cell_type": "markdown",
      "metadata": {
        "id": "mAk7wYZECKy2"
      },
      "source": [
        "Una vez que la capa está definida esta puede encodear texto a una matríz de integers:"
      ]
    },
    {
      "cell_type": "code",
      "metadata": {
        "colab": {
          "base_uri": "https://localhost:8080/"
        },
        "id": "9ht6qdTFCNgc",
        "outputId": "165f9639-b972-42d3-9370-00d766a61dda"
      },
      "source": [
        "encoded_example = encoder(example)[:3].numpy()\n",
        "encoded_example"
      ],
      "execution_count": 19,
      "outputs": [
        {
          "output_type": "execute_result",
          "data": {
            "text/plain": [
              "array([[256,  59,   2, 863,  92, 663, 258,   8,   2,  33,  36,  10,   0,\n",
              "          0,   0,   0,   0,   0,   0,   0,   0,   0,   0,   0,   0,   0,\n",
              "          0,   0,   0,   0,   0,   0,   0,   0,   0,   0,   0,   0,   0,\n",
              "          0,   0,   0,   0,   0,   0,   0,   0,   0,   0,   0,   0,   0,\n",
              "          0,   0,   0,   0,   0,   0,   0,   0,   0,   0],\n",
              "       [  1,   1, 909,  11,  52,  72,   7, 658,  59,  11,  73,   1, 998,\n",
              "        305,  71, 867,   2, 120,   2,  21,   5, 259,  21,  46,  40,   1,\n",
              "          1,  88,   0,   0,   0,   0,   0,   0,   0,   0,   0,   0,   0,\n",
              "          0,   0,   0,   0,   0,   0,   0,   0,   0,   0,   0,   0,   0,\n",
              "          0,   0,   0,   0,   0,   0,   0,   0,   0,   0],\n",
              "       [  1, 286,  98, 428,   0,   0,   0,   0,   0,   0,   0,   0,   0,\n",
              "          0,   0,   0,   0,   0,   0,   0,   0,   0,   0,   0,   0,   0,\n",
              "          0,   0,   0,   0,   0,   0,   0,   0,   0,   0,   0,   0,   0,\n",
              "          0,   0,   0,   0,   0,   0,   0,   0,   0,   0,   0,   0,   0,\n",
              "          0,   0,   0,   0,   0,   0,   0,   0,   0,   0]])"
            ]
          },
          "metadata": {},
          "execution_count": 19
        }
      ]
    },
    {
      "cell_type": "markdown",
      "metadata": {
        "id": "CNE8ytDiCXYX"
      },
      "source": [
        "![image.png](data:image/png;base64,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)"
      ]
    },
    {
      "cell_type": "markdown",
      "metadata": {
        "id": "FboIFMOaCZPt"
      },
      "source": [
        "\n",
        "Arriba se encuentra el diagrama del modelo:\n",
        "\n",
        "La primer capa es un encoder que convierte el texto a una secuencia de tokens.\n",
        "\n",
        "Luego del encoder hay una capa de embedding. La capa de embedding almacena un vector por palabra. Al ser llamada, convierte las secuencias de indices de palabras a secuencias de vectores. Estos vectores son sobre los que se entrenará. Luego del entrenamiento (sobre una cantidad de datos suficiente), palabras con significados similares usualmente tendrán vectores similares.\n",
        "\n",
        "Una Red Neuronal Recurrente (RNN) procesa la entrada de secuencia al iterar por cada uno de sus elementos. Las RNN pasan los outputs de un elemento al input del siguiente, aprovechando la secuencialidad de los datos. La capa tf.keras.layers.Bidirectional propaga la entrada hacia adelante y hacia atrás a través de la capa RNN y luego concatena la salida final.\n",
        "\n",
        "La principal ventaja de un RNN bidireccional es que la señal desde el principio de la entrada no necesita procesarse hasta el final en cada paso de tiempo para afectar la salida.\n",
        "\n",
        "La principal desventaja de un RNN bidireccional es que no puede transmitir predicciones de manera eficiente a medida que se agregan palabras al final.\n",
        "\n",
        "Una vez que la RNN ha convertido la secuencia en un solo vector, las layers.Dense realizan un procesamiento final, aplicando transformaciones no lineales a los vectores resultantes y obteniendo al final un vector con 5 elementos, donde cada uno es la probabilidad de perteneces a la i-ésima clase.\n",
        "\n",
        "Imagen y texto extraido del tutorial de Tensorflow\n",
        "\n",
        "Se modificó la red expuesta en la imagen para que tenga otra capa bidireccional y dos capas layers.Dense, además la última capa a diferencia de las otras layers.Dense tendrá como función activadora la función softmax la cual es utilizada para clasificación de multiples clases."
      ]
    },
    {
      "cell_type": "code",
      "metadata": {
        "id": "1yBiCFWRCgtj"
      },
      "source": [
        "\n",
        "model = tf.keras.Sequential([\n",
        "    encoder,\n",
        "    tf.keras.layers.Embedding(\n",
        "        input_dim=len(encoder.get_vocabulary()),\n",
        "        output_dim=64,\n",
        "        mask_zero=True),\n",
        "    tf.keras.layers.Bidirectional(tf.keras.layers.LSTM(64, return_sequences=True)),\n",
        "    tf.keras.layers.Bidirectional(tf.keras.layers.LSTM(64)),\n",
        "    tf.keras.layers.Dense(64, activation='relu'),\n",
        "    tf.keras.layers.Dense(64, activation='relu'),\n",
        "    tf.keras.layers.Dense(32, activation='relu'),\n",
        "    tf.keras.layers.Dense(16, activation='relu'),\n",
        "\n",
        "    tf.keras.layers.Dense(5, activation='softmax')\n",
        "])"
      ],
      "execution_count": 42,
      "outputs": []
    },
    {
      "cell_type": "markdown",
      "metadata": {
        "id": "M4Pd6W_0CkB1"
      },
      "source": [
        "La capa embedding utiliza enmascaramiento para manejar las diferentes longitudes de secuencia. Todas las capas siguientes a esta soportan este enmascaramiento.\n",
        "La capa Dense junto con la activacion \"relu\", permiten que la red neuronal pueda aumentar su performance, acelerar el aprendizaje y evitar la desaparicion del gradiente (porque la activacion relu reemplaza los pesos negativos por cero)"
      ]
    },
    {
      "cell_type": "code",
      "metadata": {
        "colab": {
          "base_uri": "https://localhost:8080/"
        },
        "id": "17B9-LZfCm6F",
        "outputId": "664e0066-4e53-4d44-ec6a-7f0257129325"
      },
      "source": [
        "print([layer.supports_masking for layer in model.layers])"
      ],
      "execution_count": 43,
      "outputs": [
        {
          "output_type": "stream",
          "name": "stdout",
          "text": [
            "[False, True, True, True, True, True, True, True, True]\n"
          ]
        }
      ]
    },
    {
      "cell_type": "markdown",
      "metadata": {
        "id": "198iVDzJCrEg"
      },
      "source": [
        "Para confirmar que esta red funciona como se esperaba, evalúo una oración dos veces. Primero, solo para que no haya relleno para enmascarar:"
      ]
    },
    {
      "cell_type": "code",
      "metadata": {
        "colab": {
          "base_uri": "https://localhost:8080/"
        },
        "id": "IgecdwR5Cu4r",
        "outputId": "a51c9670-1484-4bd0-d6c1-9188a66957d1"
      },
      "source": [
        "sample_text = ('The movie was cool. The animation and the graphics '\n",
        "               'were out of this world. I would recommend this movie.')\n",
        "predictions = model.predict(np.array([sample_text]))\n",
        "print(predictions[0])"
      ],
      "execution_count": 44,
      "outputs": [
        {
          "output_type": "stream",
          "name": "stdout",
          "text": [
            "[0.20001261 0.19962494 0.1991152  0.20101164 0.20023564]\n"
          ]
        }
      ]
    },
    {
      "cell_type": "markdown",
      "metadata": {
        "id": "ZFMw6TsDC0Lt"
      },
      "source": [
        "Ahora lo evalúo nuevamente en un lote con una oración más larga. El resultado debería ser idéntico:"
      ]
    },
    {
      "cell_type": "code",
      "metadata": {
        "colab": {
          "base_uri": "https://localhost:8080/"
        },
        "id": "aCR9TiJnC4SW",
        "outputId": "6893f15d-bd6e-404e-9a20-ff98264e4a10"
      },
      "source": [
        "padding = \"the \" * 2000\n",
        "predictions = model.predict(np.array([sample_text, padding]))\n",
        "print(predictions[0])"
      ],
      "execution_count": 45,
      "outputs": [
        {
          "output_type": "stream",
          "name": "stdout",
          "text": [
            "[0.20001261 0.19962494 0.1991152  0.20101164 0.20023562]\n"
          ]
        }
      ]
    },
    {
      "cell_type": "markdown",
      "metadata": {
        "id": "IMPYs0I4C8Hz"
      },
      "source": [
        "Compilaré el modelo utilizando como función de perdida la categorical_crossentropy y como mi optimizador a Adam para configurar e proceso de entrenamiento"
      ]
    },
    {
      "cell_type": "code",
      "metadata": {
        "id": "hntPHgTCC_aV"
      },
      "source": [
        "model.compile(loss='categorical_crossentropy',\n",
        "              optimizer=tf.keras.optimizers.Adam(learning_rate=0.001),\n",
        "              metrics=['accuracy'])"
      ],
      "execution_count": 46,
      "outputs": []
    },
    {
      "cell_type": "markdown",
      "metadata": {
        "id": "2QiHAoHjDC7f"
      },
      "source": [
        "Veamos como se ve la red neuronal:"
      ]
    },
    {
      "cell_type": "code",
      "metadata": {
        "colab": {
          "base_uri": "https://localhost:8080/"
        },
        "id": "j4pDrsR1DF-C",
        "outputId": "7fd2ddfc-f1e8-4c1a-97a8-f07533b78b20"
      },
      "source": [
        "model.summary()"
      ],
      "execution_count": 47,
      "outputs": [
        {
          "output_type": "stream",
          "name": "stdout",
          "text": [
            "Model: \"sequential_3\"\n",
            "_________________________________________________________________\n",
            "Layer (type)                 Output Shape              Param #   \n",
            "=================================================================\n",
            "text_vectorization (TextVect (None, None)              0         \n",
            "_________________________________________________________________\n",
            "embedding_3 (Embedding)      (None, None, 64)          64000     \n",
            "_________________________________________________________________\n",
            "bidirectional_6 (Bidirection (None, None, 128)         66048     \n",
            "_________________________________________________________________\n",
            "bidirectional_7 (Bidirection (None, 128)               98816     \n",
            "_________________________________________________________________\n",
            "dense_13 (Dense)             (None, 64)                8256      \n",
            "_________________________________________________________________\n",
            "dense_14 (Dense)             (None, 64)                4160      \n",
            "_________________________________________________________________\n",
            "dense_15 (Dense)             (None, 32)                2080      \n",
            "_________________________________________________________________\n",
            "dense_16 (Dense)             (None, 16)                528       \n",
            "_________________________________________________________________\n",
            "dense_17 (Dense)             (None, 5)                 85        \n",
            "=================================================================\n",
            "Total params: 243,973\n",
            "Trainable params: 243,973\n",
            "Non-trainable params: 0\n",
            "_________________________________________________________________\n"
          ]
        }
      ]
    },
    {
      "cell_type": "markdown",
      "metadata": {
        "id": "4wta5jTfDcPV"
      },
      "source": [
        "\n",
        "Voy a entrenar mi modelo utilizando EarlyStopping que hará que al finalizar cada epoch, si mi modelo no disminuyó su loss en dev, finalice el entrenamiento:"
      ]
    },
    {
      "cell_type": "code",
      "metadata": {
        "colab": {
          "base_uri": "https://localhost:8080/"
        },
        "id": "pQPw7gKLDifB",
        "outputId": "d4eac79b-d902-4dd2-c550-7b2ca826ffbe"
      },
      "source": [
        "checkpoint = EarlyStopping(monitor=\"val_accuracy\", min_delta=0, patience=10, verbose=1, mode=\"max\", baseline=None, restore_best_weights=False)\n",
        "\n",
        "callbacks_list = [checkpoint]\n",
        "\n",
        "history = model.fit(train_dataset, epochs=5,\n",
        "                    validation_data=dev_dataset,\n",
        "                    callbacks=callbacks_list,\n",
        "                    verbose=1)"
      ],
      "execution_count": 48,
      "outputs": [
        {
          "output_type": "stream",
          "name": "stdout",
          "text": [
            "Epoch 1/5\n",
            "2625/2625 [==============================] - 656s 244ms/step - loss: 1.2092 - accuracy: 0.4590 - val_loss: 1.1553 - val_accuracy: 0.4846\n",
            "Epoch 2/5\n",
            "2625/2625 [==============================] - 647s 246ms/step - loss: 1.1392 - accuracy: 0.4938 - val_loss: 1.1269 - val_accuracy: 0.4961\n",
            "Epoch 3/5\n",
            "2625/2625 [==============================] - 641s 244ms/step - loss: 1.1155 - accuracy: 0.5031 - val_loss: 1.1223 - val_accuracy: 0.5040\n",
            "Epoch 4/5\n",
            "2625/2625 [==============================] - 639s 243ms/step - loss: 1.1012 - accuracy: 0.5083 - val_loss: 1.1206 - val_accuracy: 0.5010\n",
            "Epoch 5/5\n",
            "2625/2625 [==============================] - 671s 256ms/step - loss: 1.0878 - accuracy: 0.5162 - val_loss: 1.1223 - val_accuracy: 0.5062\n"
          ]
        }
      ]
    },
    {
      "cell_type": "markdown",
      "metadata": {
        "id": "1ATaSM_qDlxM"
      },
      "source": [
        "Veamos las métricas sobre test:"
      ]
    },
    {
      "cell_type": "code",
      "metadata": {
        "id": "g3KFyRrXDp59"
      },
      "source": [
        "test_dataset = tf.data.Dataset.from_tensor_slices((xtest, ytest_cat))\n",
        "test_dataset = test_dataset.batch(BATCH_SIZE).prefetch(tf.data.AUTOTUNE)"
      ],
      "execution_count": 49,
      "outputs": []
    },
    {
      "cell_type": "code",
      "metadata": {
        "id": "IYazws5dDsnU",
        "colab": {
          "base_uri": "https://localhost:8080/"
        },
        "outputId": "e750cb55-a7eb-4a22-89dc-b0b758827f4d"
      },
      "source": [
        "\n",
        "ytest_pred = model.predict(test_dataset)\n",
        "\n",
        "# Transformo las predicciones a las clases originales (1,2,3,4,5)\n",
        "Ytest_pred = []\n",
        "for y in ytest_pred:\n",
        "    clase = np.argmax(y)+1\n",
        "    Ytest_pred.append(clase)\n",
        "ytest_pred = Ytest_pred\n",
        "ytest_pred = np.array(ytest_pred)"
      ],
      "execution_count": 50,
      "outputs": [
        {
          "output_type": "stream",
          "name": "stdout",
          "text": [
            "WARNING:tensorflow:5 out of the last 9 calls to <function Model.make_predict_function.<locals>.predict_function at 0x7fb09d5b45f0> triggered tf.function retracing. Tracing is expensive and the excessive number of tracings could be due to (1) creating @tf.function repeatedly in a loop, (2) passing tensors with different shapes, (3) passing Python objects instead of tensors. For (1), please define your @tf.function outside of the loop. For (2), @tf.function has experimental_relax_shapes=True option that relaxes argument shapes that can avoid unnecessary retracing. For (3), please refer to https://www.tensorflow.org/guide/function#controlling_retracing and https://www.tensorflow.org/api_docs/python/tf/function for  more details.\n"
          ]
        }
      ]
    },
    {
      "cell_type": "code",
      "metadata": {
        "id": "sLF4Nf5TDvvo",
        "colab": {
          "base_uri": "https://localhost:8080/"
        },
        "outputId": "0f8cfa51-3aca-4d4e-9583-bf4b2a941f0a"
      },
      "source": [
        "acc_test = accuracy_score(ytest, ytest_pred)\n",
        "\n",
        "print(\"Accuracy en test: \" + str(acc_test))"
      ],
      "execution_count": 51,
      "outputs": [
        {
          "output_type": "stream",
          "name": "stdout",
          "text": [
            "Accuracy en test: 0.5014049626137067\n"
          ]
        }
      ]
    },
    {
      "cell_type": "markdown",
      "metadata": {
        "id": "l3fjquNHDyUP"
      },
      "source": [
        "Veamos la matriz de confusión:"
      ]
    },
    {
      "cell_type": "code",
      "metadata": {
        "id": "_c93FQDdD1cH",
        "colab": {
          "base_uri": "https://localhost:8080/",
          "height": 443
        },
        "outputId": "236b9ed8-02f5-4594-c39f-21ae9b8b0d12"
      },
      "source": [
        "plot_cm(ytest,ytest_pred)"
      ],
      "execution_count": 52,
      "outputs": [
        {
          "output_type": "display_data",
          "data": {
            "image/png": "[encoded data removed]",
            "text/plain": [
              "<Figure size 504x504 with 2 Axes>"
            ]
          },
          "metadata": {
            "needs_background": "light"
          }
        }
      ]
    },
    {
      "cell_type": "markdown",
      "metadata": {
        "id": "dPiJ6mODD5qn"
      },
      "source": [
        "Veamos el reporte del clasificador:"
      ]
    },
    {
      "cell_type": "code",
      "metadata": {
        "id": "vUGT2cLAD6vi",
        "colab": {
          "base_uri": "https://localhost:8080/"
        },
        "outputId": "93c1e31d-00d4-4bbe-f267-c5dfb3a8388f"
      },
      "source": [
        "print(classification_report(ytest,ytest_pred))"
      ],
      "execution_count": 53,
      "outputs": [
        {
          "output_type": "stream",
          "name": "stdout",
          "text": [
            "              precision    recall  f1-score   support\n",
            "\n",
            "           1       0.60      0.69      0.64      4200\n",
            "           2       0.41      0.46      0.44      4200\n",
            "           3       0.41      0.33      0.37      4199\n",
            "           4       0.45      0.44      0.44      4199\n",
            "           5       0.61      0.59      0.60      4199\n",
            "\n",
            "    accuracy                           0.50     20997\n",
            "   macro avg       0.50      0.50      0.50     20997\n",
            "weighted avg       0.50      0.50      0.50     20997\n",
            "\n"
          ]
        }
      ]
    },
    {
      "cell_type": "markdown",
      "metadata": {
        "id": "2343LqZ3D__L"
      },
      "source": [
        "Veamos como fue evolucionando el accuracy y el loss a lo largo del entrenamiento:"
      ]
    },
    {
      "cell_type": "code",
      "metadata": {
        "id": "Nx0UImiMECaE"
      },
      "source": [
        "history_dict = history.history"
      ],
      "execution_count": 54,
      "outputs": []
    },
    {
      "cell_type": "code",
      "metadata": {
        "id": "uvjK5WQUEEzj"
      },
      "source": [
        "acc = history_dict['accuracy']\n",
        "val_acc = history_dict['val_accuracy']\n",
        "loss = history_dict['loss']\n",
        "val_loss = history_dict['val_loss']"
      ],
      "execution_count": 55,
      "outputs": []
    },
    {
      "cell_type": "code",
      "metadata": {
        "id": "tk22t0cXEISw",
        "colab": {
          "base_uri": "https://localhost:8080/",
          "height": 404
        },
        "outputId": "74cecda1-863f-43f2-c48f-0a415c2ff969"
      },
      "source": [
        "epochs = range(1, len(acc) + 1)\n",
        "fig = plt.figure(figsize=(10, 6))\n",
        "fig.tight_layout()\n",
        "plt.subplots_adjust(hspace=0.5)\n",
        "\n",
        "plt.subplot(2, 1, 1)\n",
        "# \"bo\" is for \"blue dot\"\n",
        "plt.plot(epochs, loss, 'r', label='Training loss')\n",
        "# b is for \"solid blue line\"\n",
        "plt.plot(epochs, val_loss, 'b', label='Validation loss')\n",
        "plt.title('Training and validation loss')\n",
        "# plt.xlabel('Epochs')\n",
        "plt.ylabel('Loss')\n",
        "plt.legend()\n",
        "\n",
        "plt.subplot(2, 1, 2)\n",
        "plt.plot(epochs, acc, 'r', label='Training acc')\n",
        "plt.plot(epochs, val_acc, 'b', label='Validation acc')\n",
        "plt.title('Training and validation accuracy')\n",
        "plt.xlabel('Epochs')\n",
        "plt.ylabel('Accuracy')\n",
        "plt.legend(loc='lower right')\n",
        "plt.show()"
      ],
      "execution_count": 56,
      "outputs": [
        {
          "output_type": "display_data",
          "data": {
            "image/png": "[encoded data removed]",
            "text/plain": [
              "<Figure size 720x432 with 2 Axes>"
            ]
          },
          "metadata": {
            "needs_background": "light"
          }
        }
      ]
    },
    {
      "cell_type": "markdown",
      "metadata": {
        "id": "0mbLai5AEMOq"
      },
      "source": [
        "Como era de esperar se observa una gran mejora en el desempeño de este modelo, incluso se podría haber entrenado por más epochs y quizás obtener un mejor desempeño."
      ]
    },
    {
      "cell_type": "markdown",
      "metadata": {
        "id": "OCCqvq-WF0Un"
      },
      "source": [
        "## Conclusión:\n",
        "El campo de redes neuronales es muy amplio y aqui se expone un primer modelo donde se visualiza una notoria mejora.\n",
        "\n",
        "\n",
        "Como punto a trabajar se podria analizar frecuencia de palabras similares entre clases ya que estas producen vectores similares y al quitarlas podria mejorar el modelo.\n",
        "\n",
        "\n",
        "Como primer trabajo en este campo de redes neuronales me desafía a seguir profundizando para nuevos modelos y aplicaciones. Un campo de estudio que me despierta mucho interes son los chatbot y estudiaré modelos con redes nueronales"
      ]
    }
  ]
}